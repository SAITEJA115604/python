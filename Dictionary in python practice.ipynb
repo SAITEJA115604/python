{
 "cells": [
  {
   "cell_type": "markdown",
   "id": "d96877df",
   "metadata": {},
   "source": [
    "# Convert two lists into a dictionary"
   ]
  },
  {
   "cell_type": "code",
   "execution_count": 2,
   "id": "35599ab3",
   "metadata": {},
   "outputs": [
    {
     "name": "stdout",
     "output_type": "stream",
     "text": [
      "{'Ten': 10, 'Twenty': 20, 'Thirty': 30}\n"
     ]
    }
   ],
   "source": [
    "keys = ['Ten', 'Twenty', 'Thirty']\n",
    "values = [10, 20, 30]\n",
    "dict1 = dict(zip(keys,values)) \n",
    "print(dict1)"
   ]
  },
  {
   "cell_type": "markdown",
   "id": "20e90471",
   "metadata": {},
   "source": [
    "# Merge two Python dictionaries into one"
   ]
  },
  {
   "cell_type": "code",
   "execution_count": 9,
   "id": "a6d51be7",
   "metadata": {},
   "outputs": [
    {
     "data": {
      "text/plain": [
       "{'Ten': 10, 'Twenty': 20, 'Thirty': 30, 'Fourty': 40, 'Fifty': 50}"
      ]
     },
     "execution_count": 9,
     "metadata": {},
     "output_type": "execute_result"
    }
   ],
   "source": [
    "dict1 = {'Ten': 10, 'Twenty': 20, 'Thirty': 30}\n",
    "dict2 = {'Thirty': 30, 'Fourty': 40, 'Fifty': 50}\n",
    "dict3 = {**dict1,**dict2}\n",
    "dict3"
   ]
  },
  {
   "cell_type": "markdown",
   "id": "f0fd9c68",
   "metadata": {},
   "source": [
    "# Print the value of key ‘history’ from the below dict"
   ]
  },
  {
   "cell_type": "code",
   "execution_count": 69,
   "id": "e41eac38",
   "metadata": {},
   "outputs": [
    {
     "name": "stdout",
     "output_type": "stream",
     "text": [
      "80\n"
     ]
    }
   ],
   "source": [
    "sampleDict = {\n",
    "    \"class\": {\n",
    "        \"student\": {\n",
    "            \"name\": \"Mike\",\n",
    "            \"marks\": {\n",
    "                \"physics\": 70,\n",
    "                \"history\": 80\n",
    "            }\n",
    "        }\n",
    "    }\n",
    "}\n",
    "print(sampleDict['class']['student']['marks']['history'])\n",
    "# for k,v in sampleDict.items():\n",
    "#     for k1, v1 in v.items():\n",
    "# #         print(v1)\n",
    "#         for k2,v2 in v1.items():\n",
    "#             for keys,values in v2:\n",
    "#                 if values == 80:\n",
    "#                     print(keys[values])\n",
    "                \n",
    "                \n",
    "# #             print(v2)\n",
    "# #     if k  == 'history':\n",
    "# #         print(v.values())\n",
    "            "
   ]
  },
  {
   "cell_type": "markdown",
   "id": "6ab02aeb",
   "metadata": {},
   "source": [
    "# Initialize dictionary with default values"
   ]
  },
  {
   "cell_type": "code",
   "execution_count": 77,
   "id": "ca7012a3",
   "metadata": {
    "scrolled": true
   },
   "outputs": [
    {
     "name": "stdout",
     "output_type": "stream",
     "text": [
      "{'Kelly': {'designation': 'Developer', 'salary': 8000}, 'Emma': {'designation': 'Developer', 'salary': 8000}}\n"
     ]
    }
   ],
   "source": [
    "from collections import defaultdict\n",
    "employees = ['Kelly', 'Emma']\n",
    "defaults = {\"designation\": 'Developer', \"salary\": 8000}\n",
    "dictObj = {key: defaults for key in employees}\n",
    "print(dictObj)\n",
    "# result = dict.from_keys(employees,defaults)\n",
    "# print(result)\n",
    "\n",
    "# print('\\nKelly :',result['Kelly'])\n",
    "# print('\\nEmma :',result['Emma'])"
   ]
  },
  {
   "cell_type": "markdown",
   "id": "24782254",
   "metadata": {},
   "source": [
    "# Rename key of a dictionary"
   ]
  },
  {
   "cell_type": "markdown",
   "id": "9fa3c12a",
   "metadata": {},
   "source": [
    "# Write a program to rename a key city to a location in the following dictionary."
   ]
  },
  {
   "cell_type": "code",
   "execution_count": 82,
   "id": "6b8a26d2",
   "metadata": {},
   "outputs": [
    {
     "name": "stdout",
     "output_type": "stream",
     "text": [
      "{'name': 'Kelly', 'age': 25, 'salary': 8000, 'location': 'New york'}\n"
     ]
    }
   ],
   "source": [
    "sample_dict = {\n",
    "  \"name\": \"Kelly\",\n",
    "  \"age\":25,\n",
    "  \"salary\": 8000,\n",
    "  \"city\": \"New york\"\n",
    "}\n",
    "sample_dict[\"location\"]= sample_dict[\"city\"]\n",
    "del sample_dict[\"city\"]\n",
    "print(sample_dict)"
   ]
  },
  {
   "cell_type": "markdown",
   "id": "4a71bf12",
   "metadata": {},
   "source": [
    "# Get the key of a minimum value from the following dictionary"
   ]
  },
  {
   "cell_type": "code",
   "execution_count": 100,
   "id": "3cafdf1a",
   "metadata": {},
   "outputs": [
    {
     "name": "stdout",
     "output_type": "stream",
     "text": [
      "Math\n",
      "Math\n"
     ]
    }
   ],
   "source": [
    "sample_dict = {\n",
    "  'Physics': 82,\n",
    "  'Math': 65,\n",
    "  'history': 75\n",
    "}\n",
    "for k,v in sample_dict.items():\n",
    "    if v < 65 or v ==  65    :\n",
    "        print(k)\n",
    "# print(min(sample_dict,key = sample_dict.get))"
   ]
  },
  {
   "cell_type": "markdown",
   "id": "dd0f6baf",
   "metadata": {},
   "source": [
    "# Change value of a key in a nested dictionary\n",
    "\n",
    "\n",
    "\n",
    "\n",
    "\n",
    "\n",
    "\n",
    "\n",
    "\n",
    "\n",
    "\n",
    "\n",
    "\n",
    "\n",
    "\n",
    "\n",
    "\n",
    "\n",
    "\n",
    "\n",
    "\n",
    "\n",
    "\n",
    "\n",
    "\n",
    "\n",
    "\n",
    "\n",
    "\n",
    "\n",
    "\n",
    "\n",
    "\n",
    "\n",
    "\n",
    "\n",
    "\n",
    "\n",
    "\n",
    "\n",
    "\n",
    "\n",
    "\n",
    "\n",
    "\n",
    "\n",
    "\n",
    "\n",
    "\n",
    "\n",
    "\n",
    "\n",
    "\n",
    "\n",
    "\n",
    "\n"
   ]
  },
  {
   "cell_type": "markdown",
   "id": "e5b99dd6",
   "metadata": {},
   "source": [
    "# Write a Python program to change Brad’s salary to 8500 in the following dictionary."
   ]
  },
  {
   "cell_type": "code",
   "execution_count": 106,
   "id": "4ce544e4",
   "metadata": {},
   "outputs": [
    {
     "name": "stdout",
     "output_type": "stream",
     "text": [
      "{'emp1': {'name': 'Jhon', 'salary': 7500}, 'emp2': {'name': 'Emma', 'salary': 8000}, 'emp3': {'name': 'Brad', 'salary': 8500}}\n"
     ]
    }
   ],
   "source": [
    "sample_dict = {\n",
    "    'emp1': {'name': 'Jhon', 'salary': 7500},\n",
    "    'emp2': {'name': 'Emma', 'salary': 8000},\n",
    "    'emp3': {'name': 'Brad', 'salary': 500}\n",
    "}\n",
    "sample_dict['emp3']['salary']=8500\n",
    "print(sample_dict)"
   ]
  },
  {
   "cell_type": "markdown",
   "id": "a9d64121",
   "metadata": {},
   "source": [
    "# Write a program to check whether a given key exists in a dictionary or not.\n",
    "\n",
    "\n",
    "\n",
    "\n",
    "\n",
    "\n",
    "\n",
    "\n",
    "\n",
    "\n",
    "\n",
    "\n",
    "\n",
    "\n",
    "\n",
    "\n",
    "\n",
    "\n",
    "\n",
    "\n",
    "\n",
    "\n",
    "\n",
    "\n",
    "\n",
    "\n",
    "\n",
    "\n",
    "\n",
    "\n",
    "\n",
    "\n",
    "\n",
    "\n",
    "\n",
    "\n",
    "\n",
    "\n",
    "\n",
    "\n",
    "\n",
    "\n",
    "\n",
    "\n",
    "\n",
    "\n",
    "\n",
    "\n",
    "\n",
    "\n",
    "\n",
    "\n",
    "\n",
    "\n",
    "\n",
    "\n",
    "\n",
    "\n",
    "\n",
    "\n",
    "\n",
    "\n",
    "\n",
    "\n"
   ]
  },
  {
   "cell_type": "code",
   "execution_count": 110,
   "id": "dd3404c2",
   "metadata": {},
   "outputs": [
    {
     "name": "stdout",
     "output_type": "stream",
     "text": [
      "Enter the number:2\n",
      "True\n"
     ]
    }
   ],
   "source": [
    "dict = {'0':1, '1':2, '2':3}\n",
    "x = input(\"Enter the number:\")\n",
    "if x in dict.keys():\n",
    "    print(True)\n",
    "else:\n",
    "    print(False)"
   ]
  },
  {
   "cell_type": "markdown",
   "id": "8d3aba91",
   "metadata": {},
   "source": [
    "# Write a program to iterate over dictionary items using for loop."
   ]
  },
  {
   "cell_type": "code",
   "execution_count": 118,
   "id": "72c2e8b7",
   "metadata": {},
   "outputs": [
    {
     "name": "stdout",
     "output_type": "stream",
     "text": [
      "the  value of key 0  is value Value 1 \n",
      "the  value of key 1  is value Value 2 \n"
     ]
    }
   ],
   "source": [
    "dict = {0:\"Value 1\", 1:\"Value 2\"}\n",
    "for y,z in dict.items():\n",
    "    print(f'the  value of key {y}  is value {z} ')"
   ]
  },
  {
   "cell_type": "markdown",
   "id": "0ed10d6b",
   "metadata": {},
   "source": [
    "# Write a program to print only keys of a dictionary."
   ]
  },
  {
   "cell_type": "code",
   "execution_count": 2,
   "id": "dd68f5da",
   "metadata": {},
   "outputs": [
    {
     "name": "stdout",
     "output_type": "stream",
     "text": [
      "0\n",
      "1\n",
      "2\n"
     ]
    }
   ],
   "source": [
    "dict = {0:\"Value 1\", 1:\"Value 2\", 2:\"Value 3\"}\n",
    "for k in dict.keys():\n",
    "    print(k)"
   ]
  },
  {
   "cell_type": "markdown",
   "id": "e0910fed",
   "metadata": {},
   "source": [
    "# Write a program to print values of dictionary.\n"
   ]
  },
  {
   "cell_type": "code",
   "execution_count": 3,
   "id": "dc7e79e4",
   "metadata": {},
   "outputs": [
    {
     "name": "stdout",
     "output_type": "stream",
     "text": [
      "Value 1\n",
      "Value 2\n",
      "Value 3\n"
     ]
    }
   ],
   "source": [
    "dict = {0:\"Value 1\", 1:\"Value 2\", 2:\"Value 3\"}\n",
    "for v in dict.values():\n",
    "    print(v)"
   ]
  },
  {
   "cell_type": "markdown",
   "id": "b88fef2f",
   "metadata": {},
   "source": [
    "# Write a program in python to map 2 lists into a dictionary."
   ]
  },
  {
   "cell_type": "code",
   "execution_count": 23,
   "id": "7d6c9ece",
   "metadata": {},
   "outputs": [
    {
     "name": "stdout",
     "output_type": "stream",
     "text": [
      "{'a': 1, 'b': 2, 'c': 3}\n"
     ]
    }
   ],
   "source": [
    "keys = ['a', 'b', 'c']\n",
    "values = [1, 2, 3]\n",
    "dictionary = {k: v for k, v in zip(keys, values)}\n",
    "print(dictionary)"
   ]
  },
  {
   "cell_type": "markdown",
   "id": "391c2a0d",
   "metadata": {},
   "source": [
    "# Python program to remove a set of keys."
   ]
  },
  {
   "cell_type": "code",
   "execution_count": 33,
   "id": "fa05923a",
   "metadata": {},
   "outputs": [
    {
     "data": {
      "text/plain": [
       "{2: 'Value 3'}"
      ]
     },
     "execution_count": 33,
     "metadata": {},
     "output_type": "execute_result"
    }
   ],
   "source": [
    "d = {0:\"Value 1\", 1:\"Value 2\", 2:\"Value 3\"}\n",
    "del d[0]\n",
    "del d[1]\n",
    "\n",
    "# keys_to_remove = [0,1]\n",
    "\n",
    "# dict = { k: dict[k] for k in dict.keys() - keys_to_remove }\n",
    "# print(dict)\n",
    "d"
   ]
  },
  {
   "cell_type": "markdown",
   "id": "0f814741",
   "metadata": {},
   "source": [
    "# Python program to sort dictionary by values (Ascending/ Descending)."
   ]
  },
  {
   "cell_type": "code",
   "execution_count": 43,
   "id": "f5498c04",
   "metadata": {},
   "outputs": [
    {
     "data": {
      "text/plain": [
       "[('key 3', 4), ('key 2', 3), ('key 1', 2)]"
      ]
     },
     "execution_count": 43,
     "metadata": {},
     "output_type": "execute_result"
    }
   ],
   "source": [
    "d = {'key 1': 2, 'key 2': 3, 'key 3': 4}\n",
    "a = sorted(d.items(), key = lambda x: x[-1],reverse=True)\n",
    "a"
   ]
  },
  {
   "cell_type": "markdown",
   "id": "e521000c",
   "metadata": {},
   "source": [
    "# Write a program to concatenate two dictionaries to create one."
   ]
  },
  {
   "cell_type": "code",
   "execution_count": 52,
   "id": "262e07e3",
   "metadata": {},
   "outputs": [
    {
     "name": "stdout",
     "output_type": "stream",
     "text": [
      "{'key 1': 2, 'key 2': 3, 'key 3': 4, 'key 4': 5}\n"
     ]
    }
   ],
   "source": [
    "dict1 = {'key 1': 2, 'key 2': 3}\n",
    "dict2 = {'key 3': 4, 'key 4': 5}\n",
    "# dict1.update(dict2)-Update method\n",
    "# # print(dict1)\n",
    "# dict3 = dict1|dict2 -Merge Method\n",
    "# dict3\n",
    "dict4 = {**dict1,**dict2}# ** Operator method\n",
    "print(dict4)"
   ]
  },
  {
   "cell_type": "markdown",
   "id": "bf0c8c86",
   "metadata": {},
   "source": [
    "# Write a program to sum all the values of a dictionary.\n"
   ]
  },
  {
   "cell_type": "code",
   "execution_count": 7,
   "id": "369869c3",
   "metadata": {},
   "outputs": [
    {
     "data": {
      "text/plain": [
       "500"
      ]
     },
     "execution_count": 7,
     "metadata": {},
     "output_type": "execute_result"
    }
   ],
   "source": [
    "dict1 = {'key 1': 200, 'key 2': 300}\n",
    "sum(dict1.values())\n",
    "    "
   ]
  },
  {
   "cell_type": "markdown",
   "id": "7bbafcc6",
   "metadata": {},
   "source": [
    "# Write a program to get the maximum and minimum value of dictionary."
   ]
  },
  {
   "cell_type": "code",
   "execution_count": 12,
   "id": "7349f9d0",
   "metadata": {},
   "outputs": [
    {
     "name": "stdout",
     "output_type": "stream",
     "text": [
      "300\n",
      "200\n"
     ]
    }
   ],
   "source": [
    "dict1 = {'key 1': 200, 'key 2': 300}\n",
    "print(max(dict1.values()))\n",
    "print(min(dict1.values()))"
   ]
  },
  {
   "cell_type": "markdown",
   "id": "5597753a",
   "metadata": {},
   "source": [
    "# Write a program to check if a dictionary is empty or not."
   ]
  },
  {
   "cell_type": "code",
   "execution_count": 13,
   "id": "4f37109b",
   "metadata": {},
   "outputs": [
    {
     "name": "stdout",
     "output_type": "stream",
     "text": [
      "False\n"
     ]
    }
   ],
   "source": [
    "dict2 = {'key 1': 200, 'key 2': 300}\n",
    "if dict2 == {}:\n",
    "    print(True)\n",
    "else: \n",
    "    print(False)"
   ]
  },
  {
   "cell_type": "markdown",
   "id": "02ba7590",
   "metadata": {},
   "source": [
    "# Write a program in Python to choose a random item from a dictionary."
   ]
  },
  {
   "cell_type": "code",
   "execution_count": 17,
   "id": "cf0b6971",
   "metadata": {},
   "outputs": [
    {
     "data": {
      "text/plain": [
       "301"
      ]
     },
     "execution_count": 17,
     "metadata": {},
     "output_type": "execute_result"
    }
   ],
   "source": [
    "import random\n",
    "dict3 = {'key 1': 22, 'key 2': 301}\n",
    "random.choice(list(dict3.values()))"
   ]
  },
  {
   "cell_type": "markdown",
   "id": "5198508e",
   "metadata": {},
   "source": [
    "# Write a program to sort dictionary values in python."
   ]
  },
  {
   "cell_type": "code",
   "execution_count": 22,
   "id": "467746d6",
   "metadata": {},
   "outputs": [
    {
     "name": "stdout",
     "output_type": "stream",
     "text": [
      "key 1 : Apple\n",
      "key 2 : Mango\n",
      "key 3 : Papaya\n"
     ]
    }
   ],
   "source": [
    "dict1 = {\n",
    "'key 1': 'Apple', 'key 2':'Mango',\n",
    "'key 3':'Papaya'\n",
    "}\n",
    "a= sorted(dict1.items(),key=lambda x: x[1])\n",
    "for i in a:\n",
    "    print(i[0] ,\":\", i[1])"
   ]
  },
  {
   "cell_type": "markdown",
   "id": "970d3d3f",
   "metadata": {},
   "source": [
    "# Write a program to check whether a key exists in the dictionary or not."
   ]
  },
  {
   "cell_type": "code",
   "execution_count": 23,
   "id": "f83260db",
   "metadata": {},
   "outputs": [
    {
     "name": "stdout",
     "output_type": "stream",
     "text": [
      "yes\n"
     ]
    }
   ],
   "source": [
    "dict1 = {'key 1': 22, 'key 2': 301}\n",
    "if \"key 1\" in dict1.keys():\n",
    "    print('yes')\n",
    "else:\n",
    "    prnt('no')\n"
   ]
  },
  {
   "cell_type": "markdown",
   "id": "975e7b39",
   "metadata": {},
   "source": [
    "# Write a program in python to map keys to dictionary."
   ]
  },
  {
   "cell_type": "code",
   "execution_count": 25,
   "id": "f10ba043",
   "metadata": {},
   "outputs": [
    {
     "name": "stdout",
     "output_type": "stream",
     "text": [
      "{'Fruit': 'Mango', 'Vegetable': 'Tomato'}\n"
     ]
    }
   ],
   "source": [
    "key = ['Fruit', 'Vegetable'] \n",
    "value = ['Mango','Tomato']\n",
    "dicti = {k: v for k, v in zip(key, value)}\n",
    "print(dicti)"
   ]
  },
  {
   "cell_type": "markdown",
   "id": "5d561d23",
   "metadata": {},
   "source": [
    "# Write a program in Python to remove repetitive items from a list."
   ]
  },
  {
   "cell_type": "code",
   "execution_count": 29,
   "id": "26cec51a",
   "metadata": {},
   "outputs": [
    {
     "data": {
      "text/plain": [
       "[2, 3, 4, 5, 6]"
      ]
     },
     "execution_count": 29,
     "metadata": {},
     "output_type": "execute_result"
    }
   ],
   "source": [
    "num = [2,3,4,5,2,6,3,2]\n",
    "d = (list(set(num)))\n",
    "d"
   ]
  },
  {
   "cell_type": "code",
   "execution_count": null,
   "id": "2e47be99",
   "metadata": {},
   "outputs": [],
   "source": []
  }
 ],
 "metadata": {
  "kernelspec": {
   "display_name": "Python 3 (ipykernel)",
   "language": "python",
   "name": "python3"
  },
  "language_info": {
   "codemirror_mode": {
    "name": "ipython",
    "version": 3
   },
   "file_extension": ".py",
   "mimetype": "text/x-python",
   "name": "python",
   "nbconvert_exporter": "python",
   "pygments_lexer": "ipython3",
   "version": "3.9.12"
  }
 },
 "nbformat": 4,
 "nbformat_minor": 5
}
